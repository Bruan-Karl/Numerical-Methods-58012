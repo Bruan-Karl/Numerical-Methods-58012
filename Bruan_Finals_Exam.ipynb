{
  "nbformat": 4,
  "nbformat_minor": 0,
  "metadata": {
    "colab": {
      "name": "Bruan_Finals_Exam",
      "provenance": [],
      "collapsed_sections": [],
      "authorship_tag": "ABX9TyN1XpJEfIMHwaBS/RheJ6RC",
      "include_colab_link": true
    },
    "kernelspec": {
      "name": "python3",
      "display_name": "Python 3"
    },
    "language_info": {
      "name": "python"
    }
  },
  "cells": [
    {
      "cell_type": "markdown",
      "metadata": {
        "id": "view-in-github",
        "colab_type": "text"
      },
      "source": [
        "<a href=\"https://colab.research.google.com/github/R0ckie/Numerical-Methods-58012/blob/main/Bruan_Finals_Exam.ipynb\" target=\"_parent\"><img src=\"https://colab.research.google.com/assets/colab-badge.svg\" alt=\"Open In Colab\"/></a>"
      ]
    },
    {
      "cell_type": "code",
      "execution_count": 4,
      "metadata": {
        "colab": {
          "base_uri": "https://localhost:8080/"
        },
        "id": "kpmhEgKI1PqB",
        "outputId": "8d3dbc47-7032-40c3-d2bc-271ee7758a87"
      },
      "outputs": [
        {
          "output_type": "stream",
          "name": "stdout",
          "text": [
            "Integral = 2.233211\n"
          ]
        }
      ],
      "source": [
        "from math import e\n",
        "def f(x): return e**(x)\n",
        "a=-1\n",
        "b=1\n",
        "h= (b-a)/n\n",
        "S=h*(f(a)+f(b))\n",
        "for i in range(1,n):\n",
        "    S = S+f(a+i*h)\n",
        "Integral=h*S\n",
        "print('Integral = %f' %Integral)"
      ]
    }
  ]
}