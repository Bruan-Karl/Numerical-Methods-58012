{
  "nbformat": 4,
  "nbformat_minor": 0,
  "metadata": {
    "colab": {
      "name": "Operation and Expressions",
      "provenance": [],
      "authorship_tag": "ABX9TyMDmsfYAvdp2HMqG080NJlA",
      "include_colab_link": true
    },
    "kernelspec": {
      "name": "python3",
      "display_name": "Python 3"
    },
    "language_info": {
      "name": "python"
    }
  },
  "cells": [
    {
      "cell_type": "markdown",
      "metadata": {
        "id": "view-in-github",
        "colab_type": "text"
      },
      "source": [
        "<a href=\"https://colab.research.google.com/github/R0ckie/Numerical-Methods-58012/blob/main/Operation_and_Expressions.ipynb\" target=\"_parent\"><img src=\"https://colab.research.google.com/assets/colab-badge.svg\" alt=\"Open In Colab\"/></a>"
      ]
    },
    {
      "cell_type": "markdown",
      "source": [
        "**Bolean Operators**"
      ],
      "metadata": {
        "id": "hsbSRu_DYbPH"
      }
    },
    {
      "cell_type": "code",
      "execution_count": null,
      "metadata": {
        "colab": {
          "base_uri": "https://localhost:8080/"
        },
        "id": "nVNchgEfYDaS",
        "outputId": "95ff715c-3555-4b63-8c09-77297b67b501"
      },
      "outputs": [
        {
          "output_type": "stream",
          "name": "stdout",
          "text": [
            "True\n",
            "False\n",
            "False\n"
          ]
        }
      ],
      "source": [
        "print(10>9)\n",
        "print(10<9)\n",
        "print(10==9)"
      ]
    },
    {
      "cell_type": "markdown",
      "source": [
        "bool() - allows you to evaluate any value, and give you True or False in return"
      ],
      "metadata": {
        "id": "_Ca1rPgLY2iL"
      }
    },
    {
      "cell_type": "code",
      "source": [
        "#bool() Function\n",
        "print(bool(0))\n",
        "print(bool(1))\n",
        "print(bool(\"Amira\"))"
      ],
      "metadata": {
        "colab": {
          "base_uri": "https://localhost:8080/"
        },
        "id": "n815n5mvY9EZ",
        "outputId": "4efe9a51-32a1-4172-e335-d6a18c6e9b06"
      },
      "execution_count": null,
      "outputs": [
        {
          "output_type": "stream",
          "name": "stdout",
          "text": [
            "False\n",
            "True\n",
            "True\n"
          ]
        }
      ]
    },
    {
      "cell_type": "markdown",
      "source": [
        "Functions can return as bolean"
      ],
      "metadata": {
        "id": "DrTNSQgKZSqg"
      }
    },
    {
      "cell_type": "code",
      "source": [
        "def numeth_58012():\n",
        "  return False\n",
        "\n",
        "print(numeth_58012())\n",
        "\n",
        "if numeth_58012():\n",
        "  print(\"Yes!\")\n",
        "else: \n",
        "  print(\"No!\")"
      ],
      "metadata": {
        "colab": {
          "base_uri": "https://localhost:8080/"
        },
        "id": "yrqB2cqOZXBO",
        "outputId": "962a1dfb-a7e5-4bfb-a3c4-168dd11dafae"
      },
      "execution_count": 1,
      "outputs": [
        {
          "output_type": "stream",
          "name": "stdout",
          "text": [
            "False\n",
            "No!\n"
          ]
        }
      ]
    },
    {
      "cell_type": "code",
      "source": [
        "#Application_1\n",
        "\n",
        "x = 6\n",
        "y = 7\n",
        "print(x == y)\n",
        "print(x != y)"
      ],
      "metadata": {
        "colab": {
          "base_uri": "https://localhost:8080/"
        },
        "id": "DSg7gGBPaNGB",
        "outputId": "48adbc3c-1cbe-4c73-ee0e-5036433004b4"
      },
      "execution_count": 2,
      "outputs": [
        {
          "output_type": "stream",
          "name": "stdout",
          "text": [
            "False\n",
            "True\n"
          ]
        }
      ]
    },
    {
      "cell_type": "markdown",
      "source": [
        "Python Operators - used to perform operations on variables and values. "
      ],
      "metadata": {
        "id": "MmlRkeM5P3t4"
      }
    },
    {
      "cell_type": "code",
      "source": [
        "#Python Operators Example\n",
        "print(10+5)\n",
        "print(10-5)\n",
        "print(10*5)\n",
        "print(10/5)\n",
        "print(10%5)\n",
        "print(10//5)\n",
        "print(10**5)\n"
      ],
      "metadata": {
        "colab": {
          "base_uri": "https://localhost:8080/"
        },
        "id": "mH0GSERVP05w",
        "outputId": "fd780984-b67b-437e-cb40-8f1c16629742"
      },
      "execution_count": 3,
      "outputs": [
        {
          "output_type": "stream",
          "name": "stdout",
          "text": [
            "15\n",
            "5\n",
            "50\n",
            "2.0\n",
            "0\n",
            "2\n",
            "100000\n"
          ]
        }
      ]
    }
  ]
}