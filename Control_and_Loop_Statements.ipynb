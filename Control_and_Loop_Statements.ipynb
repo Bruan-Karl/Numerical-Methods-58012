{
  "nbformat": 4,
  "nbformat_minor": 0,
  "metadata": {
    "colab": {
      "name": "Control and Loop Statements",
      "provenance": [],
      "collapsed_sections": [],
      "authorship_tag": "ABX9TyP6RQ7y/mm/RAMMPT115qgo",
      "include_colab_link": true
    },
    "kernelspec": {
      "name": "python3",
      "display_name": "Python 3"
    },
    "language_info": {
      "name": "python"
    }
  },
  "cells": [
    {
      "cell_type": "markdown",
      "metadata": {
        "id": "view-in-github",
        "colab_type": "text"
      },
      "source": [
        "<a href=\"https://colab.research.google.com/github/R0ckie/Numerical-Methods-58012/blob/main/Control_and_Loop_Statements.ipynb\" target=\"_parent\"><img src=\"https://colab.research.google.com/assets/colab-badge.svg\" alt=\"Open In Colab\"/></a>"
      ]
    },
    {
      "cell_type": "markdown",
      "source": [
        "**If Statements**"
      ],
      "metadata": {
        "id": "L0ESZ0WnQpQ9"
      }
    },
    {
      "cell_type": "code",
      "execution_count": null,
      "metadata": {
        "colab": {
          "base_uri": "https://localhost:8080/"
        },
        "id": "c4TP-pgwQbzN",
        "outputId": "6605cdb1-f861-4de0-8f31-5a052f523ccd"
      },
      "outputs": [
        {
          "output_type": "stream",
          "name": "stdout",
          "text": [
            "a is not equal to b\n"
          ]
        }
      ],
      "source": [
        "#Sample If-statement execution\n",
        "a = 12\n",
        "b = 24\n",
        "if a != b:\n",
        "  print(\"a is not equal to b\")"
      ]
    },
    {
      "cell_type": "markdown",
      "source": [
        "**Elif Statements**"
      ],
      "metadata": {
        "id": "6QSiTw1eRVVM"
      }
    },
    {
      "cell_type": "code",
      "source": [
        "if a == b:\n",
        "  print(\"a is equal to b\")\n",
        "elif a!=b:\n",
        "  print(\"a is not equal to b\")"
      ],
      "metadata": {
        "colab": {
          "base_uri": "https://localhost:8080/"
        },
        "id": "4kkafWlARZuL",
        "outputId": "f1b0eab0-7028-49e7-cadd-8e241d8bc612"
      },
      "execution_count": null,
      "outputs": [
        {
          "output_type": "stream",
          "name": "stdout",
          "text": [
            "a is not equal to b\n"
          ]
        }
      ]
    },
    {
      "cell_type": "markdown",
      "source": [
        "**Else Statements**"
      ],
      "metadata": {
        "id": "GV-z8GhsRn-O"
      }
    },
    {
      "cell_type": "code",
      "source": [
        "if a > b:\n",
        "  print(\"a greater than b\")\n",
        "elif a==b:\n",
        "  print(\"a is equals to b\")\n",
        "else:\n",
        "  print(\"i don't know maths\")"
      ],
      "metadata": {
        "colab": {
          "base_uri": "https://localhost:8080/"
        },
        "id": "yi-i_uYRRwYo",
        "outputId": "c735d3c4-674f-4fed-fcdb-1d121587603a"
      },
      "execution_count": null,
      "outputs": [
        {
          "output_type": "stream",
          "name": "stdout",
          "text": [
            "i don't know maths\n"
          ]
        }
      ]
    },
    {
      "cell_type": "markdown",
      "source": [
        "**Example 1:**\n",
        "Write a program that determines if the input age is qualified to vote or not. The qualifying age is 18 years and above. "
      ],
      "metadata": {
        "id": "obT57EzYSa1w"
      }
    },
    {
      "cell_type": "code",
      "source": [
        "def qualify_vote(x):\n",
        "  if x < 18:\n",
        "    return (\"Not qualify to vote\")\n",
        "  else:\n",
        "    return(\"Qualify to vote\")\n",
        "\n",
        "#qualify_vote(20)\n",
        "qualify_vote(18)"
      ],
      "metadata": {
        "colab": {
          "base_uri": "https://localhost:8080/",
          "height": 35
        },
        "id": "iRUmwF12SaYd",
        "outputId": "feff3c29-f31b-44b9-9bb1-2a15c69cfe43"
      },
      "execution_count": null,
      "outputs": [
        {
          "output_type": "execute_result",
          "data": {
            "application/vnd.google.colaboratory.intrinsic+json": {
              "type": "string"
            },
            "text/plain": [
              "'Qualify to vote'"
            ]
          },
          "metadata": {},
          "execution_count": 14
        }
      ]
    },
    {
      "cell_type": "markdown",
      "source": [
        "**Example 2:** Write a program that determines if the input number is POSITIVE, NEGATIVE, or ZERO."
      ],
      "metadata": {
        "id": "8xA1IUYrTgTr"
      }
    },
    {
      "cell_type": "code",
      "source": [
        "def detnum(x):\n",
        "  if x > 0:\n",
        "    return (\"POSITIVE\")\n",
        "  elif x < 0:\n",
        "    return(\"NEGATIVE\")\n",
        "  else:\n",
        "    return('ZERO')\n",
        "\n",
        "#detnum(-7)\n",
        "#detnum(8)\n",
        "detnum(0)"
      ],
      "metadata": {
        "colab": {
          "base_uri": "https://localhost:8080/",
          "height": 35
        },
        "id": "mBfcz12uTsgQ",
        "outputId": "8420b224-304e-4abc-be57-16f627272500"
      },
      "execution_count": null,
      "outputs": [
        {
          "output_type": "execute_result",
          "data": {
            "application/vnd.google.colaboratory.intrinsic+json": {
              "type": "string"
            },
            "text/plain": [
              "'ZERO'"
            ]
          },
          "metadata": {},
          "execution_count": 18
        }
      ]
    },
    {
      "cell_type": "markdown",
      "source": [
        "**Example 3:** Write a program to determine if the grades are:\n",
        "\n",
        "grade >=75, \"Passed\"\n",
        "\n",
        "grade = 74, \"Remedial\",\n",
        "\n",
        "grade <74, \"Failed\""
      ],
      "metadata": {
        "id": "gdsvHD5KVGaC"
      }
    },
    {
      "cell_type": "code",
      "source": [
        "def detgrade(x):\n",
        "  if x >= 75:\n",
        "    return (\"PASSED\")\n",
        "  elif x==74:\n",
        "    return(\"REMEDIAL\")\n",
        "  else:\n",
        "    return('FAILED')\n",
        "\n",
        "detgrade(75)"
      ],
      "metadata": {
        "colab": {
          "base_uri": "https://localhost:8080/",
          "height": 35
        },
        "id": "vo5PBP2iVuzX",
        "outputId": "17432eee-709f-46a4-9213-4ca62d29d673"
      },
      "execution_count": null,
      "outputs": [
        {
          "output_type": "execute_result",
          "data": {
            "application/vnd.google.colaboratory.intrinsic+json": {
              "type": "string"
            },
            "text/plain": [
              "'PASSED'"
            ]
          },
          "metadata": {},
          "execution_count": 20
        }
      ]
    },
    {
      "cell_type": "markdown",
      "source": [
        "**Loop Control Statements** - used to perform looping operations until the given condition is TRUE.\n",
        "\n",
        "**TYPES:**\n",
        "\n",
        "\"For\" Loop - used for iterating over a sequence."
      ],
      "metadata": {
        "id": "NjdLV8b4WQFX"
      }
    },
    {
      "cell_type": "code",
      "source": [
        "#Example 1\n",
        "\n",
        "week = ['Sunday', 'Monday', 'Tuesday', 'Wednesday', \n",
        "        'Thursday', 'Friday', 'Saturday']\n",
        "\n",
        "for x in week:\n",
        "  print(x)"
      ],
      "metadata": {
        "colab": {
          "base_uri": "https://localhost:8080/"
        },
        "id": "zy8DTYk_ZNQU",
        "outputId": "1c6a04e4-cecc-4962-bc40-a5a4b8489f8d"
      },
      "execution_count": null,
      "outputs": [
        {
          "output_type": "stream",
          "name": "stdout",
          "text": [
            "Sunday\n",
            "Monday\n",
            "Tuesday\n",
            "Wednesday\n",
            "Thursday\n",
            "Friday\n",
            "Saturday\n"
          ]
        }
      ]
    },
    {
      "cell_type": "code",
      "source": [
        "#Example 2\n",
        "week = ['Sunday', 'Monday', 'Tuesday', 'Wednesday', \n",
        "        'Thursday', 'Friday', 'Saturday']\n",
        "\n",
        "for x in week:\n",
        "  print(x)\n",
        "  if x == 'Friday':\n",
        "    break"
      ],
      "metadata": {
        "colab": {
          "base_uri": "https://localhost:8080/"
        },
        "id": "kUXdnaZZZkLv",
        "outputId": "e10679df-dd42-4c2c-ac38-52f4ff4cddaf"
      },
      "execution_count": null,
      "outputs": [
        {
          "output_type": "stream",
          "name": "stdout",
          "text": [
            "Sunday\n",
            "Monday\n",
            "Tuesday\n",
            "Wednesday\n",
            "Thursday\n",
            "Friday\n"
          ]
        }
      ]
    },
    {
      "cell_type": "markdown",
      "source": [
        "**EXAMPLE 1:** Create a Python program that displays:\n",
        "\n",
        "Hello 0\n",
        "\n",
        "Hello 1\n",
        "\n",
        "Hello 2\n",
        "\n",
        "Hello 3\n",
        "\n",
        "Hello 4\n",
        "\n",
        "Hello 5\n",
        "\n",
        "Hello 6\n",
        "\n",
        "Hello 7\n",
        "\n",
        "Hello 8\n",
        "\n",
        "Hello 9\n",
        "\n",
        "Hello 10\n"
      ],
      "metadata": {
        "id": "0hjN20TPkAWA"
      }
    },
    {
      "cell_type": "code",
      "source": [
        "i = 0\n",
        "while i < 11:\n",
        "  print(\"Hello\",i)\n",
        "  i+=1"
      ],
      "metadata": {
        "colab": {
          "base_uri": "https://localhost:8080/"
        },
        "id": "xnoQuVt0bD-A",
        "outputId": "e0de4b21-ef87-46a1-865f-7ede66c986f9"
      },
      "execution_count": null,
      "outputs": [
        {
          "output_type": "stream",
          "name": "stdout",
          "text": [
            "Hello 0\n",
            "Hello 1\n",
            "Hello 2\n",
            "Hello 3\n",
            "Hello 4\n",
            "Hello 5\n",
            "Hello 6\n",
            "Hello 7\n",
            "Hello 8\n",
            "Hello 9\n",
            "Hello 10\n"
          ]
        }
      ]
    },
    {
      "cell_type": "markdown",
      "source": [
        "**Example 2:** Create a Pyhton program that displays integers less than 10 but not less that 3"
      ],
      "metadata": {
        "id": "Pp8nUbqBjI8X"
      }
    },
    {
      "cell_type": "code",
      "source": [
        "i = 3\n",
        "while i < 10:\n",
        "  print(i)\n",
        "  i+=1\n"
      ],
      "metadata": {
        "colab": {
          "base_uri": "https://localhost:8080/"
        },
        "id": "ZeYlTigrjHyK",
        "outputId": "7e18eb6c-7033-4180-aad4-f87f92c88df1"
      },
      "execution_count": null,
      "outputs": [
        {
          "output_type": "stream",
          "name": "stdout",
          "text": [
            "3\n",
            "4\n",
            "5\n",
            "6\n",
            "7\n",
            "8\n",
            "9\n"
          ]
        }
      ]
    }
  ]
}